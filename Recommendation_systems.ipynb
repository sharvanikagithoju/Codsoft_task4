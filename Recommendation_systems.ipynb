{
  "nbformat": 4,
  "nbformat_minor": 0,
  "metadata": {
    "colab": {
      "provenance": [],
      "authorship_tag": "ABX9TyOeYYU7ZIwu5qMFq21PkSYA",
      "include_colab_link": true
    },
    "kernelspec": {
      "name": "python3",
      "display_name": "Python 3"
    },
    "language_info": {
      "name": "python"
    }
  },
  "cells": [
    {
      "cell_type": "markdown",
      "metadata": {
        "id": "view-in-github",
        "colab_type": "text"
      },
      "source": [
        "<a href=\"https://colab.research.google.com/github/sharvanikagithoju/Codsoft_task4/blob/main/Recommendation_systems.ipynb\" target=\"_parent\"><img src=\"https://colab.research.google.com/assets/colab-badge.svg\" alt=\"Open In Colab\"/></a>"
      ]
    },
    {
      "cell_type": "code",
      "execution_count": 1,
      "metadata": {
        "colab": {
          "base_uri": "https://localhost:8080/"
        },
        "id": "vDv3TC85IYfR",
        "outputId": "18301fb0-d474-440d-db9f-2b894aec53d8"
      },
      "outputs": [
        {
          "output_type": "stream",
          "name": "stdout",
          "text": [
            "Recommended movies based on your preferences:\n",
            "The Godfather (Score: 0.43)\n",
            "Pulp Fiction (Score: 0.26)\n",
            "The Dark Knight (Score: 0.25)\n",
            "The Shawshank Redemption (Score: 0.10)\n",
            "Forrest Gump (Score: 0.08)\n"
          ]
        }
      ],
      "source": [
        "import pandas as pd\n",
        "from sklearn.feature_extraction.text import TfidfVectorizer\n",
        "from sklearn.metrics.pairwise import linear_kernel\n",
        "\n",
        "movies_data = {\n",
        "    'title': ['The Shawshank Redemption', 'The Godfather', 'The Dark Knight', 'Pulp Fiction', 'Forrest Gump'],\n",
        "    'genre': ['Drama', 'Crime, Drama', 'Action, Crime, Drama', 'Crime, Drama', 'Drama, Romance'],\n",
        "    'director': ['Frank Darabont', 'Francis Ford Coppola', 'Christopher Nolan', 'Quentin Tarantino', 'Robert Zemeckis'],\n",
        "    'actors': ['Tim Robbins, Morgan Freeman', 'Marlon Brando, Al Pacino', 'Christian Bale, Heath Ledger', 'John Travolta, Uma Thurman', 'Tom Hanks, Robin Wright'],\n",
        "    'plot_keywords': ['imprisonment, escape', 'mafia, crime', 'dc comics, joker', 'violence, black comedy', 'slow motion scene, vietnam war']\n",
        "}\n",
        "\n",
        "movies_df = pd.DataFrame(movies_data)\n",
        "\n",
        "# Combine text data for each movie\n",
        "movies_df['combined_features'] = movies_df['genre'] + ' ' + movies_df['director'] + ' ' + movies_df['actors'] + ' ' + movies_df['plot_keywords']\n",
        "\n",
        "# Create TF-IDF vectorizer\n",
        "tfidf_vectorizer = TfidfVectorizer()\n",
        "\n",
        "# Fit and transform the combined features\n",
        "tfidf_matrix = tfidf_vectorizer.fit_transform(movies_df['combined_features'])\n",
        "\n",
        "# Calculate cosine similarity between movies\n",
        "cosine_sim = linear_kernel(tfidf_matrix, tfidf_matrix)\n",
        "# Function to recommend movies based on user preferences\n",
        "def recommend_movies(user_preferences, top_n=5):\n",
        "    # Transform user preferences into TF-IDF vector\n",
        "    user_tfidf = tfidf_vectorizer.transform([user_preferences])\n",
        "\n",
        "    # Calculate similarity scores between user preferences and all movies\n",
        "    similarity_scores = linear_kernel(user_tfidf, tfidf_matrix).flatten()\n",
        "\n",
        "    # Get indices of movies with highest similarity scores\n",
        "    top_indices = similarity_scores.argsort()[:-top_n-1:-1]\n",
        "\n",
        "    # Return recommended movies\n",
        "    recommended_movies = [(movies_df['title'][i], similarity_scores[i]) for i in top_indices]\n",
        "    return recommended_movies\n",
        "\n",
        "# Example usage\n",
        "user_preferences = 'crime drama'\n",
        "recommended_movies = recommend_movies(user_preferences)\n",
        "print(\"Recommended movies based on your preferences:\")\n",
        "for movie, score in recommended_movies:\n",
        "    print(f\"{movie} (Score: {score:.2f})\")"
      ]
    }
  ]
}